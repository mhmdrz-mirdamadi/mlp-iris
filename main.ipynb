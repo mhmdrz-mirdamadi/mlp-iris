{
 "cells": [
  {
   "cell_type": "code",
   "execution_count": 1,
   "metadata": {},
   "outputs": [],
   "source": [
    "import numpy as np\n",
    "import pandas as pd\n",
    "import matplotlib.pyplot as plt"
   ]
  },
  {
   "cell_type": "code",
   "execution_count": 2,
   "metadata": {},
   "outputs": [],
   "source": [
    "from sklearn.datasets import load_iris\n",
    "\n",
    "iris_data = load_iris()\n",
    "df = pd.DataFrame(np.c_[ iris_data['data'], iris_data['target'] ],\n",
    "                    columns=iris_data['feature_names'] + ['target'])"
   ]
  },
  {
   "cell_type": "code",
   "execution_count": 3,
   "metadata": {},
   "outputs": [],
   "source": [
    "def split_dataset(X, y, test_size, shuffle=True):\n",
    "    n_samples = X.shape[0]\n",
    "    permut = np.random.permutation(n_samples) if shuffle else range(n_samples)\n",
    "    split_point = round((1-test_size)*n_samples)\n",
    "\n",
    "    X_train, y_train = X[permut[:split_point]], y[permut[:split_point]]\n",
    "    X_test, y_test = X[permut[split_point:]], y[permut[split_point:]]\n",
    "\n",
    "    return X_train, X_test, y_train, y_test"
   ]
  },
  {
   "cell_type": "code",
   "execution_count": 4,
   "metadata": {},
   "outputs": [],
   "source": [
    "def one_hot_encoder(target):\n",
    "    keys = list(set(target))\n",
    "    values = list(range(len(keys)))\n",
    "    class_dict = {key:val for (key, val) in zip(keys, values)}\n",
    "\n",
    "    target_one_hot = np.zeros((target.shape[0], len(keys)), dtype=int)\n",
    "    for i, item in enumerate(target):\n",
    "        target_one_hot[i, class_dict[item]] = 1\n",
    "\n",
    "    return target_one_hot"
   ]
  },
  {
   "cell_type": "code",
   "execution_count": 5,
   "metadata": {},
   "outputs": [],
   "source": [
    "X_iris = df.drop(columns=['target']).to_numpy()\n",
    "y_iris = one_hot_encoder(df['target'].to_numpy())\n",
    "X_train, X_test, y_train, y_test = split_dataset(X_iris, y_iris, test_size=0.2)"
   ]
  },
  {
   "cell_type": "code",
   "execution_count": 6,
   "metadata": {},
   "outputs": [],
   "source": [
    "def relu(X):\n",
    "    return np.maximum(X, 0.)"
   ]
  },
  {
   "cell_type": "code",
   "execution_count": 14,
   "metadata": {},
   "outputs": [],
   "source": [
    "def relu_grad(X):\n",
    "    X[X<=0] = 0.\n",
    "    X[X>0] = 1.\n",
    "    \n",
    "    return X"
   ]
  },
  {
   "cell_type": "code",
   "execution_count": 7,
   "metadata": {},
   "outputs": [],
   "source": [
    "def softmax(y_hat):\n",
    "    y_hat = np.exp(y_hat)\n",
    "    y_hat = y_hat / np.sum(y_hat, axis=0)\n",
    "\n",
    "    return y_hat"
   ]
  },
  {
   "cell_type": "code",
   "execution_count": 75,
   "metadata": {},
   "outputs": [],
   "source": [
    "class three_layer_nn:\n",
    "    def __init__(self, X, y, n_hidden):\n",
    "        self.X = X.T\n",
    "        self.y = y.T\n",
    "        self.n_samples, self.n_features = X.shape\n",
    "        self.n_classes = y.shape[1]\n",
    "        self.n_hidden = n_hidden\n",
    "\n",
    "    def initial_weights(self):\n",
    "        self.w_1 = np.random.random(size=(self.n_hidden, self.n_features))\n",
    "        self.b_1 = np.zeros(shape=self.n_hidden)\n",
    "        self.w_2 = np.random.random(size=(self.n_classes, self.n_hidden))\n",
    "        self.b_2 = np.zeros(shape=self.n_classes)\n",
    "\n",
    "    def compute_cost(self, y):\n",
    "        loss = -np.sum(y*np.log(self.y_hat), axis=0)\n",
    "        cost = np.sum(loss) / self.n_samples\n",
    "\n",
    "        return cost\n",
    "\n",
    "    def forward_propagation(self, X):\n",
    "        self.z_1 = self.w_1 @ X + self.b_1.reshape(-1, 1)\n",
    "        self.a_1 = relu(self.z_1)\n",
    "        self.z_2 = self.w_2 @ self.a_1 + self.b_2.reshape(-1, 1)\n",
    "        self.y_hat = softmax(self.z_2)\n",
    "\n",
    "    def backpropagation(self, X, y):\n",
    "        self.dz_2 = self.y_hat - y\n",
    "        self.dw_2 = (self.dz_2 @ self.a_1.T) / self.n_samples\n",
    "        self.db_2 = np.sum(self.dz_2, axis=1) / self.n_samples\n",
    "        \n",
    "        self.dz_1 = (self.w_2.T @ self.dz_2) * relu_grad(self.z_1)\n",
    "        self.dw_1 = (self.dz_1 @ X.T) / self.n_samples\n",
    "        self.db_1 = np.sum(self.dz_1, axis=1) / self.n_samples\n",
    "\n",
    "    def update_params(self, learning_rate):\n",
    "        self.w_1 = self.w_1 - learning_rate*self.dw_1\n",
    "        self.b_1 = self.b_1 - learning_rate*self.db_1\n",
    "\n",
    "        self.w_2 = self.w_2 - learning_rate*self.dw_2\n",
    "        self.b_2 = self.b_2 - learning_rate*self.db_2\n",
    "\n",
    "    def train_GD(self, learning_rate, epochs, random_state=1):\n",
    "        np.random.seed(random_state)\n",
    "        cost_history = np.zeros(shape=epochs)\n",
    "        self.initial_weights()\n",
    "\n",
    "        for epoch in range(epochs):\n",
    "            self.forward_propagation(self.X)\n",
    "            self.backpropagation(self.X, self.y)\n",
    "            self.update_params(learning_rate)\n",
    "\n",
    "            cost_history[epoch] = self.compute_cost(self.y)\n",
    "\n",
    "            if (epoch+1) % (epochs//10) == 0 or epoch == 0:\n",
    "                print(f'iteration: {epoch+1:>5}/{epochs},\\tcost: {cost_history[epoch]:>6.5f}')\n",
    "\n",
    "        return cost_history"
   ]
  },
  {
   "cell_type": "code",
   "execution_count": 76,
   "metadata": {},
   "outputs": [],
   "source": [
    "model = three_layer_nn(X_train, y_train, 5)"
   ]
  },
  {
   "cell_type": "code",
   "execution_count": 80,
   "metadata": {},
   "outputs": [
    {
     "name": "stdout",
     "output_type": "stream",
     "text": [
      "iteration:     1/20000,\tcost: 2.80306\n",
      "iteration:  2000/20000,\tcost: 0.10721\n",
      "iteration:  4000/20000,\tcost: 0.07862\n",
      "iteration:  6000/20000,\tcost: 0.07027\n",
      "iteration:  8000/20000,\tcost: 0.06595\n",
      "iteration: 10000/20000,\tcost: 0.06329\n",
      "iteration: 12000/20000,\tcost: 0.06132\n",
      "iteration: 14000/20000,\tcost: 0.05972\n",
      "iteration: 16000/20000,\tcost: 0.05837\n",
      "iteration: 18000/20000,\tcost: 0.05718\n",
      "iteration: 20000/20000,\tcost: 0.05613\n"
     ]
    }
   ],
   "source": [
    "epochs = 20000\n",
    "lr = 0.01\n",
    "h = model.train_GD(lr, epochs)"
   ]
  },
  {
   "cell_type": "code",
   "execution_count": 81,
   "metadata": {},
   "outputs": [
    {
     "data": {
      "image/png": "[encoded data removed]",
      "text/plain": [
       "<Figure size 720x360 with 1 Axes>"
      ]
     },
     "metadata": {
      "needs_background": "light"
     },
     "output_type": "display_data"
    }
   ],
   "source": [
    "plt.figure(figsize=(10, 5))\n",
    "plt.plot(list(range(epochs)), h)\n",
    "plt.xlabel('Iteration')\n",
    "plt.ylabel('Cost')\n",
    "plt.title(f'Logistic Regression Cost')\n",
    "plt.show()"
   ]
  },
  {
   "cell_type": "code",
   "execution_count": null,
   "metadata": {},
   "outputs": [],
   "source": []
  }
 ],
 "metadata": {
  "interpreter": {
   "hash": "c0cfa47e4159e176ee37e3e8a7954059166176c1746676448f5cd8f3d8af8630"
  },
  "kernelspec": {
   "display_name": "Python 3.9.12 ('base')",
   "language": "python",
   "name": "python3"
  },
  "language_info": {
   "codemirror_mode": {
    "name": "ipython",
    "version": 3
   },
   "file_extension": ".py",
   "mimetype": "text/x-python",
   "name": "python",
   "nbconvert_exporter": "python",
   "pygments_lexer": "ipython3",
   "version": "3.9.12"
  },
  "orig_nbformat": 4
 },
 "nbformat": 4,
 "nbformat_minor": 2
}
