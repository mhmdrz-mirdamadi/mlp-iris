{
 "cells": [
  {
   "cell_type": "code",
   "execution_count": 1,
   "metadata": {},
   "outputs": [],
   "source": [
    "import numpy as np\n",
    "import pandas as pd\n",
    "import matplotlib.pyplot as plt"
   ]
  },
  {
   "cell_type": "code",
   "execution_count": 2,
   "metadata": {},
   "outputs": [],
   "source": [
    "from sklearn.datasets import load_iris\n",
    "\n",
    "iris_data = load_iris()\n",
    "df = pd.DataFrame(np.c_[ iris_data['data'], iris_data['target'] ],\n",
    "                    columns=iris_data['feature_names'] + ['target'])"
   ]
  },
  {
   "cell_type": "code",
   "execution_count": 3,
   "metadata": {},
   "outputs": [],
   "source": [
    "def split_dataset(X, y, test_size, shuffle=True):\n",
    "    n_samples = X.shape[0]\n",
    "    permut = np.random.permutation(n_samples) if shuffle else range(n_samples)\n",
    "    split_point = round((1-test_size)*n_samples)\n",
    "\n",
    "    X_train, y_train = X[permut[:split_point]], y[permut[:split_point]]\n",
    "    X_test, y_test = X[permut[split_point:]], y[permut[split_point:]]\n",
    "\n",
    "    return X_train, X_test, y_train, y_test"
   ]
  },
  {
   "cell_type": "code",
   "execution_count": 4,
   "metadata": {},
   "outputs": [],
   "source": [
    "def one_hot_encoder(target):\n",
    "    keys = list(set(target))\n",
    "    values = list(range(len(keys)))\n",
    "    class_dict = {key:val for (key, val) in zip(keys, values)}\n",
    "\n",
    "    target_one_hot = np.zeros((target.shape[0], len(keys)), dtype=int)\n",
    "    for i, item in enumerate(target):\n",
    "        target_one_hot[i, class_dict[item]] = 1\n",
    "\n",
    "    return target_one_hot"
   ]
  },
  {
   "cell_type": "code",
   "execution_count": 179,
   "metadata": {},
   "outputs": [],
   "source": [
    "X_iris = df.drop(columns=['target']).to_numpy()\n",
    "y_iris = one_hot_encoder(df['target'].to_numpy())\n",
    "X_train, X_test, y_train, y_test = split_dataset(X_iris, y_iris, test_size=0.2)"
   ]
  },
  {
   "cell_type": "code",
   "execution_count": 168,
   "metadata": {},
   "outputs": [],
   "source": [
    "class three_layer_nn:\n",
    "    def __init__(self, n_hidden):\n",
    "        self.n_hidden = n_hidden\n",
    "\n",
    "    def initial_weights(self, n_features, n_classes):\n",
    "        self.w_1 = np.random.random(size=(self.n_hidden, n_features))\n",
    "        self.b_1 = np.zeros(shape=self.n_hidden)\n",
    "        self.w_2 = np.random.random(size=(n_classes, self.n_hidden))\n",
    "        self.b_2 = np.zeros(shape=n_classes)\n",
    "\n",
    "    def compute_cost(self, y):\n",
    "        n_samples = y.shape[1]\n",
    "        loss = -np.sum(y*np.log(self.y_hat), axis=0)\n",
    "        cost = np.sum(loss) / n_samples\n",
    "\n",
    "        return cost\n",
    "\n",
    "    def relu(self, X):\n",
    "        return np.maximum(X, 0.)\n",
    "\n",
    "    def relu_grad(self, X):\n",
    "        X[X<=0] = 0.\n",
    "        X[X>0] = 1.\n",
    "        \n",
    "        return X\n",
    "\n",
    "    def softmax(self, y_hat):\n",
    "        y_hat = np.exp(y_hat)\n",
    "        y_hat = y_hat / np.sum(y_hat, axis=0)\n",
    "\n",
    "        return y_hat\n",
    "\n",
    "    def forward_propagation(self, X):\n",
    "        self.z_1 = self.w_1 @ X + self.b_1.reshape(-1, 1)\n",
    "        self.a_1 = self.relu(self.z_1)\n",
    "        self.z_2 = self.w_2 @ self.a_1 + self.b_2.reshape(-1, 1)\n",
    "        self.y_hat = self.softmax(self.z_2)\n",
    "\n",
    "    def backpropagation(self, X, y):\n",
    "        n_samples = X.shape[1]\n",
    "\n",
    "        self.dz_2 = self.y_hat - y\n",
    "        self.dw_2 = (self.dz_2 @ self.a_1.T) / n_samples\n",
    "        self.db_2 = np.sum(self.dz_2, axis=1) / n_samples\n",
    "        \n",
    "        self.dz_1 = (self.w_2.T @ self.dz_2) * self.relu_grad(self.z_1)\n",
    "        self.dw_1 = (self.dz_1 @ X.T) / n_samples\n",
    "        self.db_1 = np.sum(self.dz_1, axis=1) / n_samples\n",
    "\n",
    "    def update_params(self, learning_rate):\n",
    "        self.w_1 = self.w_1 - learning_rate*self.dw_1\n",
    "        self.b_1 = self.b_1 - learning_rate*self.db_1\n",
    "\n",
    "        self.w_2 = self.w_2 - learning_rate*self.dw_2\n",
    "        self.b_2 = self.b_2 - learning_rate*self.db_2\n",
    "\n",
    "    def train_GD(self, X, y, learning_rate, epochs, random_state=1):\n",
    "        np.random.seed(random_state)\n",
    "        n_features, n_classes = X.shape[0], y.shape[0]\n",
    "        cost_history = np.zeros(shape=epochs)\n",
    "        self.initial_weights(n_features, n_classes)\n",
    "\n",
    "        for epoch in range(epochs):\n",
    "            self.forward_propagation(X)\n",
    "            self.backpropagation(X, y)\n",
    "            self.update_params(learning_rate)\n",
    "\n",
    "            cost_history[epoch] = self.compute_cost(y)\n",
    "\n",
    "            if (epoch+1) % (epochs//10) == 0 or epoch == 0:\n",
    "                print(f'iteration: {epoch+1:>5}/{epochs},\\tcost: {cost_history[epoch]:>6.5f}')\n",
    "\n",
    "        return cost_history\n",
    "\n",
    "    def predict(self, X):\n",
    "        n_classes, n_samples = self.y_hat.shape[0], X.shape[1]\n",
    "\n",
    "        self.forward_propagation(X)\n",
    "        pred = np.zeros(shape=(n_classes, n_samples))\n",
    "        indices = np.argmax(self.y_hat, axis=0)\n",
    "        for i in range(n_samples):\n",
    "            pred[indices[i], i] = 1\n",
    "\n",
    "        return pred\n",
    "\n",
    "    def score(self, y_true, y_pred):\n",
    "        n_correct, n_samples = 0, y_true.shape[1]\n",
    "        for i in range(n_samples):\n",
    "            if np.all(y_true[:, i] == y_pred[:, i]):\n",
    "                n_correct += 1\n",
    "\n",
    "        return n_correct/n_samples\n",
    "\n",
    "    def plot_history(self, epochs, history, title, figsize=(10, 5)):\n",
    "        plt.figure(figsize=figsize)\n",
    "        plt.plot(list(range(epochs)), history)\n",
    "        plt.xlabel('Iteration')\n",
    "        plt.ylabel('Cost')\n",
    "        plt.title(title)\n",
    "        plt.show()"
   ]
  },
  {
   "cell_type": "code",
   "execution_count": 196,
   "metadata": {},
   "outputs": [
    {
     "name": "stdout",
     "output_type": "stream",
     "text": [
      "iteration:     1/5000,\tcost: 3.57581\n",
      "iteration:   500/5000,\tcost: 0.38714\n",
      "iteration:  1000/5000,\tcost: 0.22868\n",
      "iteration:  1500/5000,\tcost: 0.15342\n",
      "iteration:  2000/5000,\tcost: 0.11859\n",
      "iteration:  2500/5000,\tcost: 0.10009\n",
      "iteration:  3000/5000,\tcost: 0.08888\n",
      "iteration:  3500/5000,\tcost: 0.08143\n",
      "iteration:  4000/5000,\tcost: 0.07613\n",
      "iteration:  4500/5000,\tcost: 0.07218\n",
      "iteration:  5000/5000,\tcost: 0.06912\n"
     ]
    },
    {
     "data": {
      "image/png": "[encoded data removed]",
      "text/plain": [
       "<Figure size 720x360 with 1 Axes>"
      ]
     },
     "metadata": {
      "needs_background": "light"
     },
     "output_type": "display_data"
    },
    {
     "name": "stdout",
     "output_type": "stream",
     "text": [
      "Train score: 0.9917, Test score: 0.9333\n"
     ]
    }
   ],
   "source": [
    "n_hidden = 4\n",
    "epochs = 5000\n",
    "lr = 0.01\n",
    "\n",
    "model = three_layer_nn(n_hidden)\n",
    "h = model.train_GD(X_train.T, y_train.T, lr, epochs)\n",
    "model.plot_history(epochs, h, 'NN')\n",
    "\n",
    "y_hat_train = model.predict(X_train.T)\n",
    "score_train = model.score(y_train.T, y_hat_train)\n",
    "y_hat_test = model.predict(X_test.T)\n",
    "score_test = model.score(y_test.T, y_hat_test)\n",
    "print(f'Train score: {score_train:.4}, Test score: {score_test:.4}')"
   ]
  },
  {
   "cell_type": "code",
   "execution_count": null,
   "metadata": {},
   "outputs": [],
   "source": []
  }
 ],
 "metadata": {
  "interpreter": {
   "hash": "c0cfa47e4159e176ee37e3e8a7954059166176c1746676448f5cd8f3d8af8630"
  },
  "kernelspec": {
   "display_name": "Python 3.9.12 ('base')",
   "language": "python",
   "name": "python3"
  },
  "language_info": {
   "codemirror_mode": {
    "name": "ipython",
    "version": 3
   },
   "file_extension": ".py",
   "mimetype": "text/x-python",
   "name": "python",
   "nbconvert_exporter": "python",
   "pygments_lexer": "ipython3",
   "version": "3.9.12"
  },
  "orig_nbformat": 4
 },
 "nbformat": 4,
 "nbformat_minor": 2
}
