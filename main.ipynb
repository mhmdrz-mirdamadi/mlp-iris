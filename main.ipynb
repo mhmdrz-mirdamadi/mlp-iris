{
 "cells": [
  {
   "cell_type": "markdown",
   "metadata": {},
   "source": [
    "# Import Libraries"
   ]
  },
  {
   "cell_type": "code",
   "execution_count": 1,
   "metadata": {},
   "outputs": [],
   "source": [
    "import numpy as np\n",
    "import pandas as pd\n",
    "import matplotlib.pyplot as plt"
   ]
  },
  {
   "cell_type": "markdown",
   "metadata": {},
   "source": [
    "# Load Data"
   ]
  },
  {
   "cell_type": "code",
   "execution_count": 2,
   "metadata": {},
   "outputs": [],
   "source": [
    "from sklearn.datasets import load_iris\n",
    "\n",
    "iris_data = load_iris()\n",
    "df = pd.DataFrame(np.c_[ iris_data['data'], iris_data['target'] ],\n",
    "                    columns=iris_data['feature_names'] + ['target'])"
   ]
  },
  {
   "cell_type": "code",
   "execution_count": 3,
   "metadata": {},
   "outputs": [],
   "source": [
    "def split_dataset(X, y, test_size, shuffle=True):\n",
    "    n_samples = X.shape[0]\n",
    "    permut = np.random.permutation(n_samples) if shuffle else range(n_samples)\n",
    "    split_point = round((1-test_size)*n_samples)\n",
    "\n",
    "    X_train, y_train = X[permut[:split_point]], y[permut[:split_point]]\n",
    "    X_test, y_test = X[permut[split_point:]], y[permut[split_point:]]\n",
    "\n",
    "    return X_train, X_test, y_train, y_test"
   ]
  },
  {
   "cell_type": "code",
   "execution_count": 4,
   "metadata": {},
   "outputs": [],
   "source": [
    "def one_hot_encoder(target):\n",
    "    keys = list(set(target))\n",
    "    values = list(range(len(keys)))\n",
    "    class_dict = {key:val for (key, val) in zip(keys, values)}\n",
    "\n",
    "    target_one_hot = np.zeros((target.shape[0], len(keys)), dtype=int)\n",
    "    for i, item in enumerate(target):\n",
    "        target_one_hot[i, class_dict[item]] = 1\n",
    "\n",
    "    return target_one_hot"
   ]
  },
  {
   "cell_type": "code",
   "execution_count": 5,
   "metadata": {},
   "outputs": [],
   "source": [
    "X_iris = df.drop(columns=['target']).to_numpy()\n",
    "y_iris = one_hot_encoder(df['target'].to_numpy())\n",
    "X_train, X_test, y_train, y_test = split_dataset(X_iris, y_iris, test_size=0.2)"
   ]
  },
  {
   "cell_type": "markdown",
   "metadata": {},
   "source": [
    "# Model Implementation"
   ]
  },
  {
   "cell_type": "code",
   "execution_count": 52,
   "metadata": {},
   "outputs": [],
   "source": [
    "class three_layer_nn:\n",
    "    def __init__(self, n_hidden):\n",
    "        self.n_hidden = n_hidden\n",
    "\n",
    "    def initial_weights(self, n_features, n_classes):\n",
    "        self.w_1 = np.random.random(size=(self.n_hidden, n_features))\n",
    "        self.b_1 = np.zeros(shape=self.n_hidden)\n",
    "        self.w_2 = np.random.random(size=(n_classes, self.n_hidden))\n",
    "        self.b_2 = np.zeros(shape=n_classes)\n",
    "\n",
    "    def compute_cost(self, y):\n",
    "        n_samples = y.shape[1]\n",
    "        loss = -np.sum(y*np.log(self.y_hat), axis=0)\n",
    "        cost = np.sum(loss) / n_samples\n",
    "\n",
    "        return cost\n",
    "\n",
    "    def relu(self, X):\n",
    "        return np.maximum(X, 0.)\n",
    "\n",
    "    def relu_grad(self, X):\n",
    "        X[X<=0] = 0.\n",
    "        X[X>0] = 1.\n",
    "        \n",
    "        return X\n",
    "\n",
    "    def softmax(self, y_hat):\n",
    "        y_hat = np.exp(y_hat)\n",
    "        y_hat = y_hat / np.sum(y_hat, axis=0)\n",
    "\n",
    "        return y_hat\n",
    "\n",
    "    def forward_propagation(self, X):\n",
    "        self.z_1 = self.w_1 @ X + self.b_1.reshape(-1, 1)\n",
    "        self.a_1 = self.relu(self.z_1)\n",
    "        self.z_2 = self.w_2 @ self.a_1 + self.b_2.reshape(-1, 1)\n",
    "        self.y_hat = self.softmax(self.z_2)\n",
    "\n",
    "    def backpropagation(self, X, y):\n",
    "        n_samples = X.shape[1]\n",
    "\n",
    "        self.dz_2 = self.y_hat - y\n",
    "        self.dw_2 = (self.dz_2 @ self.a_1.T) / n_samples\n",
    "        self.db_2 = np.sum(self.dz_2, axis=1) / n_samples\n",
    "        \n",
    "        self.dz_1 = (self.w_2.T @ self.dz_2) * self.relu_grad(self.z_1)\n",
    "        self.dw_1 = (self.dz_1 @ X.T) / n_samples\n",
    "        self.db_1 = np.sum(self.dz_1, axis=1) / n_samples\n",
    "\n",
    "    def update_params(self, learning_rate):\n",
    "        self.w_1 = self.w_1 - learning_rate*self.dw_1\n",
    "        self.b_1 = self.b_1 - learning_rate*self.db_1\n",
    "\n",
    "        self.w_2 = self.w_2 - learning_rate*self.dw_2\n",
    "        self.b_2 = self.b_2 - learning_rate*self.db_2\n",
    "\n",
    "    def train_SGD(self, X, y, learning_rate, epochs, random_state=1):\n",
    "        np.random.seed(random_state)\n",
    "        n_features, n_classes, n_samples = X.shape[0], y.shape[0], y.shape[1]\n",
    "        cost_history = np.zeros(shape=epochs*n_samples)\n",
    "        self.initial_weights(n_features, n_classes)\n",
    "\n",
    "        for epoch in range(epochs):\n",
    "            indices = np.random.permutation(n_samples)\n",
    "            for i, index in enumerate(indices):\n",
    "                X_sample = X[:, index].reshape(-1, 1)\n",
    "                y_sample = y[:, index].reshape(-1, 1)\n",
    "                \n",
    "                self.forward_propagation(X_sample)\n",
    "                self.backpropagation(X_sample, y_sample)\n",
    "                self.update_params(learning_rate)\n",
    "\n",
    "                e = epoch*n_samples + i\n",
    "                cost_history[e] = self.compute_cost(y_sample)\n",
    "\n",
    "                if (e+1) % (epochs*n_samples//10) == 0 or e == 0:\n",
    "                    print(f'iteration: {e+1:>5}/{epochs*n_samples},\\tcost: {cost_history[e]:>6.5f}')\n",
    "\n",
    "        return cost_history\n",
    "\n",
    "    def train_minibatchGD(self, X, y, learning_rate, epochs, batch_size, random_state=1):\n",
    "        np.random.seed(random_state)\n",
    "        n_features, n_classes, n_samples = X.shape[0], y.shape[0], y.shape[1]\n",
    "        n_batches = np.ceil(n_samples/batch_size).astype(int)\n",
    "        cost_history = np.zeros(shape=epochs*n_batches)\n",
    "        self.initial_weights(n_features, n_classes)\n",
    "\n",
    "        for epoch in range(epochs):\n",
    "            indices = np.random.permutation(n_samples)\n",
    "            indices = [indices[i*batch_size:min((i+1)*batch_size, n_samples)] for i in range(n_batches)]\n",
    "            for i, index in enumerate(indices):\n",
    "                X_sample = X[:, index]\n",
    "                y_sample = y[:, index]\n",
    "\n",
    "                self.forward_propagation(X_sample)\n",
    "                self.backpropagation(X_sample, y_sample)\n",
    "                self.update_params(learning_rate)\n",
    "\n",
    "                e = epoch*n_batches + i\n",
    "                cost_history[e] = self.compute_cost(y_sample)\n",
    "\n",
    "                if (e+1) % (epochs*n_batches//10) == 0 or e == 0:\n",
    "                    print(f'iteration: {e+1:>5}/{epochs*n_batches},\\tcost: {cost_history[e]:>6.5f}')\n",
    "\n",
    "        return cost_history\n",
    "\n",
    "    def train_GD(self, X, y, learning_rate, epochs, random_state=1):\n",
    "        np.random.seed(random_state)\n",
    "        n_features, n_classes = X.shape[0], y.shape[0]\n",
    "        cost_history = np.zeros(shape=epochs)\n",
    "        self.initial_weights(n_features, n_classes)\n",
    "\n",
    "        for epoch in range(epochs):\n",
    "            self.forward_propagation(X)\n",
    "            self.backpropagation(X, y)\n",
    "            self.update_params(learning_rate)\n",
    "\n",
    "            cost_history[epoch] = self.compute_cost(y)\n",
    "\n",
    "            if (epoch+1) % (epochs//10) == 0 or epoch == 0:\n",
    "                print(f'iteration: {epoch+1:>5}/{epochs},\\tcost: {cost_history[epoch]:>6.5f}')\n",
    "\n",
    "        return cost_history\n",
    "\n",
    "    def predict(self, X):\n",
    "        n_classes, n_samples = self.y_hat.shape[0], X.shape[1]\n",
    "\n",
    "        self.forward_propagation(X)\n",
    "        pred = np.zeros(shape=(n_classes, n_samples))\n",
    "        indices = np.argmax(self.y_hat, axis=0)\n",
    "        for i in range(n_samples):\n",
    "            pred[indices[i], i] = 1\n",
    "\n",
    "        return pred\n",
    "\n",
    "    def score(self, y_true, y_pred):\n",
    "        n_correct, n_samples = 0, y_true.shape[1]\n",
    "        for i in range(n_samples):\n",
    "            if np.all(y_true[:, i] == y_pred[:, i]):\n",
    "                n_correct += 1\n",
    "\n",
    "        return n_correct/n_samples\n",
    "\n",
    "    def plot_history(self, epochs, history, title, figsize=(10, 5)):\n",
    "        plt.figure(figsize=figsize)\n",
    "        plt.plot(list(range(epochs)), history)\n",
    "        plt.xlabel('Iteration')\n",
    "        plt.ylabel('Cost')\n",
    "        plt.title(title)\n",
    "        plt.show()"
   ]
  },
  {
   "cell_type": "markdown",
   "metadata": {},
   "source": [
    "# Model Training"
   ]
  },
  {
   "cell_type": "code",
   "execution_count": 64,
   "metadata": {},
   "outputs": [],
   "source": [
    "n_hidden = 4\n",
    "model = three_layer_nn(n_hidden)"
   ]
  },
  {
   "cell_type": "markdown",
   "metadata": {},
   "source": [
    "## Stochastic Gradient Descent"
   ]
  },
  {
   "cell_type": "code",
   "execution_count": 69,
   "metadata": {},
   "outputs": [
    {
     "name": "stdout",
     "output_type": "stream",
     "text": [
      "iteration:     1/1800,\tcost: 4.72626\n",
      "iteration:   180/1800,\tcost: 0.92969\n",
      "iteration:   360/1800,\tcost: 0.51479\n",
      "iteration:   540/1800,\tcost: 0.62790\n",
      "iteration:   720/1800,\tcost: 0.47749\n",
      "iteration:   900/1800,\tcost: 0.57112\n",
      "iteration:  1080/1800,\tcost: 0.52994\n",
      "iteration:  1260/1800,\tcost: 0.67328\n",
      "iteration:  1440/1800,\tcost: 0.66396\n",
      "iteration:  1620/1800,\tcost: 0.10260\n",
      "iteration:  1800/1800,\tcost: 0.61117\n"
     ]
    },
    {
     "data": {
      "image/png": "[encoded data removed]",
      "text/plain": [
       "<Figure size 720x360 with 1 Axes>"
      ]
     },
     "metadata": {
      "needs_background": "light"
     },
     "output_type": "display_data"
    },
    {
     "name": "stdout",
     "output_type": "stream",
     "text": [
      "SGD train score: 0.9667\n",
      "SGD test score: 0.9333\n"
     ]
    }
   ],
   "source": [
    "epochs = 15\n",
    "lr = 0.003\n",
    "\n",
    "history_SGD = model.train_SGD(X_train.T, y_train.T, lr, epochs)\n",
    "\n",
    "model.plot_history(epochs*X_train.shape[0], history_SGD, 'Stochastic Gradient Descent')\n",
    "\n",
    "y_hat_train_SGD = model.predict(X_train.T)\n",
    "score_train_SGD = model.score(y_train.T, y_hat_train_SGD)\n",
    "y_hat_test_SGD = model.predict(X_test.T)\n",
    "score_test_SGD = model.score(y_test.T, y_hat_test_SGD)\n",
    "print(f'SGD train score: {score_train_SGD:.4}')\n",
    "print(f'SGD test score: {score_test_SGD:.4}')"
   ]
  },
  {
   "cell_type": "markdown",
   "metadata": {},
   "source": [
    "## Mini-batch Gradient Descent"
   ]
  },
  {
   "cell_type": "code",
   "execution_count": 70,
   "metadata": {},
   "outputs": [
    {
     "name": "stdout",
     "output_type": "stream",
     "text": [
      "iteration:     1/1000,\tcost: 3.98900\n",
      "iteration:   100/1000,\tcost: 0.92910\n",
      "iteration:   200/1000,\tcost: 0.66188\n",
      "iteration:   300/1000,\tcost: 0.53260\n",
      "iteration:   400/1000,\tcost: 0.47901\n",
      "iteration:   500/1000,\tcost: 0.32343\n",
      "iteration:   600/1000,\tcost: 0.43886\n",
      "iteration:   700/1000,\tcost: 0.33868\n",
      "iteration:   800/1000,\tcost: 0.29399\n",
      "iteration:   900/1000,\tcost: 0.29453\n",
      "iteration:  1000/1000,\tcost: 0.21423\n"
     ]
    },
    {
     "data": {
      "image/png": "[encoded data removed]",
      "text/plain": [
       "<Figure size 720x360 with 1 Axes>"
      ]
     },
     "metadata": {
      "needs_background": "light"
     },
     "output_type": "display_data"
    },
    {
     "name": "stdout",
     "output_type": "stream",
     "text": [
      "Mini-batch GD train score: 0.9833\n",
      "Mini-batch GD test score: 0.9667\n"
     ]
    }
   ],
   "source": [
    "epochs = 250\n",
    "lr = 0.01\n",
    "batch_size = 32\n",
    "n_batches = np.ceil(X_train.shape[0]/batch_size).astype(int)\n",
    "\n",
    "history_BGD = model.train_minibatchGD(X_train.T, y_train.T, lr, epochs, batch_size)\n",
    "\n",
    "model.plot_history(epochs*n_batches, history_BGD, 'Mini-batch Gradient Descent')\n",
    "\n",
    "y_hat_train_BGD = model.predict(X_train.T)\n",
    "score_train_BGD = model.score(y_train.T, y_hat_train_BGD)\n",
    "y_hat_test_BGD = model.predict(X_test.T)\n",
    "score_test_BGD = model.score(y_test.T, y_hat_test_BGD)\n",
    "print(f'Mini-batch GD train score: {score_train_BGD:.4}')\n",
    "print(f'Mini-batch GD test score: {score_test_BGD:.4}')"
   ]
  },
  {
   "cell_type": "markdown",
   "metadata": {},
   "source": [
    "## Gradient Descent"
   ]
  },
  {
   "cell_type": "code",
   "execution_count": 71,
   "metadata": {},
   "outputs": [
    {
     "name": "stdout",
     "output_type": "stream",
     "text": [
      "iteration:     1/5000,\tcost: 3.40090\n",
      "iteration:   500/5000,\tcost: 0.40028\n",
      "iteration:  1000/5000,\tcost: 0.21686\n",
      "iteration:  1500/5000,\tcost: 0.13632\n",
      "iteration:  2000/5000,\tcost: 0.10054\n",
      "iteration:  2500/5000,\tcost: 0.08137\n",
      "iteration:  3000/5000,\tcost: 0.06944\n",
      "iteration:  3500/5000,\tcost: 0.06123\n",
      "iteration:  4000/5000,\tcost: 0.05517\n",
      "iteration:  4500/5000,\tcost: 0.05048\n",
      "iteration:  5000/5000,\tcost: 0.04674\n"
     ]
    },
    {
     "data": {
      "image/png": "[encoded data removed]",
      "text/plain": [
       "<Figure size 720x360 with 1 Axes>"
      ]
     },
     "metadata": {
      "needs_background": "light"
     },
     "output_type": "display_data"
    },
    {
     "name": "stdout",
     "output_type": "stream",
     "text": [
      "GD train score: 0.9917\n",
      "GD test score: 0.9667\n"
     ]
    }
   ],
   "source": [
    "epochs = 5000\n",
    "lr = 0.01\n",
    "\n",
    "history_GD = model.train_GD(X_train.T, y_train.T, lr, epochs)\n",
    "\n",
    "model.plot_history(epochs, history_GD, 'Gradient Descent')\n",
    "\n",
    "y_hat_train_GD = model.predict(X_train.T)\n",
    "score_train_GD = model.score(y_train.T, y_hat_train_GD)\n",
    "y_hat_test_GD = model.predict(X_test.T)\n",
    "score_test_GD = model.score(y_test.T, y_hat_test_GD)\n",
    "print(f'GD train score: {score_train_GD:.4}')\n",
    "print(f'GD test score: {score_test_GD:.4}')"
   ]
  },
  {
   "cell_type": "markdown",
   "metadata": {},
   "source": [
    "## Gradient Checking"
   ]
  },
  {
   "cell_type": "code",
   "execution_count": 109,
   "metadata": {},
   "outputs": [],
   "source": [
    "test = three_layer_nn(n_hidden=5)\n",
    "eps = 0.00001"
   ]
  },
  {
   "cell_type": "code",
   "execution_count": 110,
   "metadata": {},
   "outputs": [],
   "source": [
    "test.initial_weights(X_train.shape[1], y_train.shape[1])\n",
    "\n",
    "test.forward_propagation(X_train.T)\n",
    "test.backpropagation(X_train.T, y_train.T)\n",
    "\n",
    "d1 = np.sum(test.dw_1)\n",
    "\n",
    "test.w_1 += eps\n",
    "test.forward_propagation(X_train.T)\n",
    "c1 = test.compute_cost(y_train.T)\n",
    "\n",
    "test.w_1 -= 2*eps\n",
    "test.forward_propagation(X_train.T)\n",
    "c2 = test.compute_cost(y_train.T)\n",
    "\n",
    "d2 = (c1 - c2)/(2*eps)\n",
    "\n",
    "diff_w1 = np.abs(d1 - d2)"
   ]
  },
  {
   "cell_type": "code",
   "execution_count": 111,
   "metadata": {},
   "outputs": [],
   "source": [
    "test.initial_weights(X_train.shape[1], y_train.shape[1])\n",
    "\n",
    "test.forward_propagation(X_train.T)\n",
    "test.backpropagation(X_train.T, y_train.T)\n",
    "\n",
    "d1 = np.sum(test.db_1)\n",
    "\n",
    "test.b_1 += eps\n",
    "test.forward_propagation(X_train.T)\n",
    "c1 = test.compute_cost(y_train.T)\n",
    "\n",
    "test.b_1 -= 2*eps\n",
    "test.forward_propagation(X_train.T)\n",
    "c2 = test.compute_cost(y_train.T)\n",
    "\n",
    "d2 = (c1 - c2)/(2*eps)\n",
    "\n",
    "diff_b1 = np.abs(d1 - d2)"
   ]
  },
  {
   "cell_type": "code",
   "execution_count": 112,
   "metadata": {},
   "outputs": [],
   "source": [
    "test.initial_weights(X_train.shape[1], y_train.shape[1])\n",
    "\n",
    "test.forward_propagation(X_train.T)\n",
    "test.backpropagation(X_train.T, y_train.T)\n",
    "\n",
    "d1 = np.sum(test.dw_2)\n",
    "\n",
    "test.w_2 += eps\n",
    "test.forward_propagation(X_train.T)\n",
    "c1 = test.compute_cost(y_train.T)\n",
    "\n",
    "test.w_2 -= 2*eps\n",
    "test.forward_propagation(X_train.T)\n",
    "c2 = test.compute_cost(y_train.T)\n",
    "\n",
    "d2 = (c1 - c2)/(2*eps)\n",
    "\n",
    "diff_w2 = np.abs(d1 - d2)"
   ]
  },
  {
   "cell_type": "code",
   "execution_count": 113,
   "metadata": {},
   "outputs": [],
   "source": [
    "test.initial_weights(X_train.shape[1], y_train.shape[1])\n",
    "\n",
    "test.forward_propagation(X_train.T)\n",
    "test.backpropagation(X_train.T, y_train.T)\n",
    "\n",
    "d1 = np.sum(test.db_2)\n",
    "\n",
    "test.b_2 += eps\n",
    "test.forward_propagation(X_train.T)\n",
    "c1 = test.compute_cost(y_train.T)\n",
    "\n",
    "test.b_2 -= 2*eps\n",
    "test.forward_propagation(X_train.T)\n",
    "c2 = test.compute_cost(y_train.T)\n",
    "\n",
    "d2 = (c1 - c2)/(2*eps)\n",
    "\n",
    "diff_b2 = np.abs(d1 - d2)"
   ]
  },
  {
   "cell_type": "code",
   "execution_count": 114,
   "metadata": {},
   "outputs": [
    {
     "data": {
      "text/plain": [
       "(4.509992379553296e-11,\n",
       " 1.3562762024577069e-12,\n",
       " 8.881784197001252e-16,\n",
       " 5.551115123125783e-17)"
      ]
     },
     "execution_count": 114,
     "metadata": {},
     "output_type": "execute_result"
    }
   ],
   "source": [
    "diff_w1, diff_b1, diff_w2, diff_b2"
   ]
  }
 ],
 "metadata": {
  "interpreter": {
   "hash": "c0cfa47e4159e176ee37e3e8a7954059166176c1746676448f5cd8f3d8af8630"
  },
  "kernelspec": {
   "display_name": "Python 3.9.12 ('base')",
   "language": "python",
   "name": "python3"
  },
  "language_info": {
   "codemirror_mode": {
    "name": "ipython",
    "version": 3
   },
   "file_extension": ".py",
   "mimetype": "text/x-python",
   "name": "python",
   "nbconvert_exporter": "python",
   "pygments_lexer": "ipython3",
   "version": "3.9.12"
  },
  "orig_nbformat": 4
 },
 "nbformat": 4,
 "nbformat_minor": 2
}
