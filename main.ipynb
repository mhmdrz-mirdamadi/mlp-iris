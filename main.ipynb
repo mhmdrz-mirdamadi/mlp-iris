{
 "cells": [
  {
   "cell_type": "code",
   "execution_count": 1,
   "metadata": {},
   "outputs": [],
   "source": [
    "import numpy as np\n",
    "import pandas as pd\n",
    "import matplotlib.pyplot as plt"
   ]
  },
  {
   "cell_type": "code",
   "execution_count": 2,
   "metadata": {},
   "outputs": [],
   "source": [
    "from sklearn.datasets import load_iris\n",
    "\n",
    "iris_data = load_iris()\n",
    "df = pd.DataFrame(np.c_[ iris_data['data'], iris_data['target'] ],\n",
    "                    columns=iris_data['feature_names'] + ['target'])"
   ]
  },
  {
   "cell_type": "code",
   "execution_count": 3,
   "metadata": {},
   "outputs": [],
   "source": [
    "def split_dataset(X, y, test_size, shuffle=True):\n",
    "    n_samples = X.shape[0]\n",
    "    permut = np.random.permutation(n_samples) if shuffle else range(n_samples)\n",
    "    split_point = round((1-test_size)*n_samples)\n",
    "\n",
    "    X_train, y_train = X[permut[:split_point]], y[permut[:split_point]]\n",
    "    X_test, y_test = X[permut[split_point:]], y[permut[split_point:]]\n",
    "\n",
    "    return X_train, X_test, y_train, y_test"
   ]
  },
  {
   "cell_type": "code",
   "execution_count": 4,
   "metadata": {},
   "outputs": [],
   "source": [
    "def one_hot_encoder(target):\n",
    "    keys = list(set(target))\n",
    "    values = list(range(len(keys)))\n",
    "    class_dict = {key:val for (key, val) in zip(keys, values)}\n",
    "\n",
    "    target_one_hot = np.zeros((target.shape[0], len(keys)), dtype=int)\n",
    "    for i, item in enumerate(target):\n",
    "        target_one_hot[i, class_dict[item]] = 1\n",
    "\n",
    "    return target_one_hot"
   ]
  },
  {
   "cell_type": "code",
   "execution_count": 5,
   "metadata": {},
   "outputs": [],
   "source": [
    "X_iris = df.drop(columns=['target']).to_numpy()\n",
    "y_iris = one_hot_encoder(df['target'].to_numpy())\n",
    "X_train, X_test, y_train, y_test = split_dataset(X_iris, y_iris, test_size=0.2)"
   ]
  },
  {
   "cell_type": "code",
   "execution_count": 6,
   "metadata": {},
   "outputs": [],
   "source": [
    "def relu(X):\n",
    "    return np.maximum(X, 0.)"
   ]
  },
  {
   "cell_type": "code",
   "execution_count": 7,
   "metadata": {},
   "outputs": [],
   "source": [
    "def softmax(y_hat):\n",
    "    y_hat = np.exp(y_hat)\n",
    "    y_hat = y_hat / np.sum(y_hat, axis=0)\n",
    "\n",
    "    return y_hat"
   ]
  },
  {
   "cell_type": "code",
   "execution_count": 9,
   "metadata": {},
   "outputs": [],
   "source": [
    "def forward_pass(X, params):\n",
    "    w_1, b_1, w_2, b_2 = params\n",
    "    b_1 = b_1.reshape(-1, 1)\n",
    "    b_2 = b_2.reshape(-1, 1)\n",
    "\n",
    "    z_1 = w_1 @ X.T + b_1\n",
    "    a_1 = relu(z_1)\n",
    "    z_2 = w_2 @ a_1 + b_2\n",
    "    y_hat = softmax(z_2)\n",
    "\n",
    "    return y_hat"
   ]
  },
  {
   "cell_type": "code",
   "execution_count": null,
   "metadata": {},
   "outputs": [],
   "source": []
  }
 ],
 "metadata": {
  "interpreter": {
   "hash": "c0cfa47e4159e176ee37e3e8a7954059166176c1746676448f5cd8f3d8af8630"
  },
  "kernelspec": {
   "display_name": "Python 3.9.12 ('base')",
   "language": "python",
   "name": "python3"
  },
  "language_info": {
   "codemirror_mode": {
    "name": "ipython",
    "version": 3
   },
   "file_extension": ".py",
   "mimetype": "text/x-python",
   "name": "python",
   "nbconvert_exporter": "python",
   "pygments_lexer": "ipython3",
   "version": "3.9.12"
  },
  "orig_nbformat": 4
 },
 "nbformat": 4,
 "nbformat_minor": 2
}
